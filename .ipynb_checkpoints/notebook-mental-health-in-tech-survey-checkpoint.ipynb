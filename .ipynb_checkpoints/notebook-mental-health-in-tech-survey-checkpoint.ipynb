{
 "cells": [
  {
   "cell_type": "code",
   "execution_count": 1,
   "id": "5de980d0",
   "metadata": {
    "_cell_guid": "b1076dfc-b9ad-4769-8c92-a6c4dae69d19",
    "_uuid": "8f2839f25d086af736a60e9eeb907d3b93b6e0e5",
    "execution": {
     "iopub.execute_input": "2021-09-12T04:19:33.872078Z",
     "iopub.status.busy": "2021-09-12T04:19:33.866920Z",
     "iopub.status.idle": "2021-09-12T04:19:34.967610Z",
     "shell.execute_reply": "2021-09-12T04:19:34.966872Z",
     "shell.execute_reply.started": "2021-09-12T03:53:56.242110Z"
    },
    "papermill": {
     "duration": 1.145459,
     "end_time": "2021-09-12T04:19:34.967797",
     "exception": false,
     "start_time": "2021-09-12T04:19:33.822338",
     "status": "completed"
    },
    "tags": []
   },
   "outputs": [
    {
     "name": "stdout",
     "output_type": "stream",
     "text": [
      "/kaggle/input/mental-health-in-tech-survey/survey.csv\n"
     ]
    }
   ],
   "source": [
    "# This Python 3 environment comes with many helpful analytics libraries installed\n",
    "# It is defined by the kaggle/python Docker image: https://github.com/kaggle/docker-python\n",
    "# For example, here's several helpful packages to load\n",
    "\n",
    "import numpy as np # linear algebra\n",
    "import pandas as pd # data processing, CSV file I/O (e.g. pd.read_csv)\n",
    "\n",
    "# Input data files are available in the read-only \"../input/\" directory\n",
    "# For example, running this (by clicking run or pressing Shift+Enter) will list all files under the input directory\n",
    "\n",
    "import os\n",
    "for dirname, _, filenames in os.walk('/kaggle/input'):\n",
    "    for filename in filenames:\n",
    "        print(os.path.join(dirname, filename))\n",
    "\n",
    "# You can write up to 20GB to the current directory (/kaggle/working/) that gets preserved as output when you create a version using \"Save & Run All\" \n",
    "# You can also write temporary files to /kaggle/temp/, but they won't be saved outside of the current session\n",
    "\n",
    "#Import releveant Packages\n",
    "import matplotlib.pyplot as plt\n",
    "import seaborn as sns\n",
    "\n",
    "import warnings\n",
    "warnings.filterwarnings(\"ignore\")"
   ]
  },
  {
   "cell_type": "code",
   "execution_count": 2,
   "id": "6305a948",
   "metadata": {
    "execution": {
     "iopub.execute_input": "2021-09-12T04:19:35.053990Z",
     "iopub.status.busy": "2021-09-12T04:19:35.053037Z",
     "iopub.status.idle": "2021-09-12T04:19:35.093784Z",
     "shell.execute_reply": "2021-09-12T04:19:35.092935Z",
     "shell.execute_reply.started": "2021-09-12T03:53:57.344644Z"
    },
    "papermill": {
     "duration": 0.090307,
     "end_time": "2021-09-12T04:19:35.093985",
     "exception": false,
     "start_time": "2021-09-12T04:19:35.003678",
     "status": "completed"
    },
    "tags": []
   },
   "outputs": [],
   "source": [
    "df=pd.read_csv('/kaggle/input/mental-health-in-tech-survey/survey.csv')"
   ]
  },
  {
   "cell_type": "markdown",
   "id": "f044f13e",
   "metadata": {
    "papermill": {
     "duration": 0.032515,
     "end_time": "2021-09-12T04:19:35.162407",
     "exception": false,
     "start_time": "2021-09-12T04:19:35.129892",
     "status": "completed"
    },
    "tags": []
   },
   "source": [
    "## Dataframe"
   ]
  },
  {
   "cell_type": "code",
   "execution_count": 3,
   "id": "0db5e828",
   "metadata": {
    "execution": {
     "iopub.execute_input": "2021-09-12T04:19:35.238402Z",
     "iopub.status.busy": "2021-09-12T04:19:35.237404Z",
     "iopub.status.idle": "2021-09-12T04:19:35.275137Z",
     "shell.execute_reply": "2021-09-12T04:19:35.274605Z",
     "shell.execute_reply.started": "2021-09-12T03:53:57.380949Z"
    },
    "papermill": {
     "duration": 0.07922,
     "end_time": "2021-09-12T04:19:35.275285",
     "exception": false,
     "start_time": "2021-09-12T04:19:35.196065",
     "status": "completed"
    },
    "tags": []
   },
   "outputs": [
    {
     "data": {
      "text/html": [
       "<div>\n",
       "<style scoped>\n",
       "    .dataframe tbody tr th:only-of-type {\n",
       "        vertical-align: middle;\n",
       "    }\n",
       "\n",
       "    .dataframe tbody tr th {\n",
       "        vertical-align: top;\n",
       "    }\n",
       "\n",
       "    .dataframe thead th {\n",
       "        text-align: right;\n",
       "    }\n",
       "</style>\n",
       "<table border=\"1\" class=\"dataframe\">\n",
       "  <thead>\n",
       "    <tr style=\"text-align: right;\">\n",
       "      <th></th>\n",
       "      <th>Timestamp</th>\n",
       "      <th>Age</th>\n",
       "      <th>Gender</th>\n",
       "      <th>Country</th>\n",
       "      <th>state</th>\n",
       "      <th>self_employed</th>\n",
       "      <th>family_history</th>\n",
       "      <th>treatment</th>\n",
       "      <th>work_interfere</th>\n",
       "      <th>no_employees</th>\n",
       "      <th>...</th>\n",
       "      <th>leave</th>\n",
       "      <th>mental_health_consequence</th>\n",
       "      <th>phys_health_consequence</th>\n",
       "      <th>coworkers</th>\n",
       "      <th>supervisor</th>\n",
       "      <th>mental_health_interview</th>\n",
       "      <th>phys_health_interview</th>\n",
       "      <th>mental_vs_physical</th>\n",
       "      <th>obs_consequence</th>\n",
       "      <th>comments</th>\n",
       "    </tr>\n",
       "  </thead>\n",
       "  <tbody>\n",
       "    <tr>\n",
       "      <th>0</th>\n",
       "      <td>2014-08-27 11:29:31</td>\n",
       "      <td>37</td>\n",
       "      <td>Female</td>\n",
       "      <td>United States</td>\n",
       "      <td>IL</td>\n",
       "      <td>NaN</td>\n",
       "      <td>No</td>\n",
       "      <td>Yes</td>\n",
       "      <td>Often</td>\n",
       "      <td>6-25</td>\n",
       "      <td>...</td>\n",
       "      <td>Somewhat easy</td>\n",
       "      <td>No</td>\n",
       "      <td>No</td>\n",
       "      <td>Some of them</td>\n",
       "      <td>Yes</td>\n",
       "      <td>No</td>\n",
       "      <td>Maybe</td>\n",
       "      <td>Yes</td>\n",
       "      <td>No</td>\n",
       "      <td>NaN</td>\n",
       "    </tr>\n",
       "    <tr>\n",
       "      <th>1</th>\n",
       "      <td>2014-08-27 11:29:37</td>\n",
       "      <td>44</td>\n",
       "      <td>M</td>\n",
       "      <td>United States</td>\n",
       "      <td>IN</td>\n",
       "      <td>NaN</td>\n",
       "      <td>No</td>\n",
       "      <td>No</td>\n",
       "      <td>Rarely</td>\n",
       "      <td>More than 1000</td>\n",
       "      <td>...</td>\n",
       "      <td>Don't know</td>\n",
       "      <td>Maybe</td>\n",
       "      <td>No</td>\n",
       "      <td>No</td>\n",
       "      <td>No</td>\n",
       "      <td>No</td>\n",
       "      <td>No</td>\n",
       "      <td>Don't know</td>\n",
       "      <td>No</td>\n",
       "      <td>NaN</td>\n",
       "    </tr>\n",
       "    <tr>\n",
       "      <th>2</th>\n",
       "      <td>2014-08-27 11:29:44</td>\n",
       "      <td>32</td>\n",
       "      <td>Male</td>\n",
       "      <td>Canada</td>\n",
       "      <td>NaN</td>\n",
       "      <td>NaN</td>\n",
       "      <td>No</td>\n",
       "      <td>No</td>\n",
       "      <td>Rarely</td>\n",
       "      <td>6-25</td>\n",
       "      <td>...</td>\n",
       "      <td>Somewhat difficult</td>\n",
       "      <td>No</td>\n",
       "      <td>No</td>\n",
       "      <td>Yes</td>\n",
       "      <td>Yes</td>\n",
       "      <td>Yes</td>\n",
       "      <td>Yes</td>\n",
       "      <td>No</td>\n",
       "      <td>No</td>\n",
       "      <td>NaN</td>\n",
       "    </tr>\n",
       "    <tr>\n",
       "      <th>3</th>\n",
       "      <td>2014-08-27 11:29:46</td>\n",
       "      <td>31</td>\n",
       "      <td>Male</td>\n",
       "      <td>United Kingdom</td>\n",
       "      <td>NaN</td>\n",
       "      <td>NaN</td>\n",
       "      <td>Yes</td>\n",
       "      <td>Yes</td>\n",
       "      <td>Often</td>\n",
       "      <td>26-100</td>\n",
       "      <td>...</td>\n",
       "      <td>Somewhat difficult</td>\n",
       "      <td>Yes</td>\n",
       "      <td>Yes</td>\n",
       "      <td>Some of them</td>\n",
       "      <td>No</td>\n",
       "      <td>Maybe</td>\n",
       "      <td>Maybe</td>\n",
       "      <td>No</td>\n",
       "      <td>Yes</td>\n",
       "      <td>NaN</td>\n",
       "    </tr>\n",
       "    <tr>\n",
       "      <th>4</th>\n",
       "      <td>2014-08-27 11:30:22</td>\n",
       "      <td>31</td>\n",
       "      <td>Male</td>\n",
       "      <td>United States</td>\n",
       "      <td>TX</td>\n",
       "      <td>NaN</td>\n",
       "      <td>No</td>\n",
       "      <td>No</td>\n",
       "      <td>Never</td>\n",
       "      <td>100-500</td>\n",
       "      <td>...</td>\n",
       "      <td>Don't know</td>\n",
       "      <td>No</td>\n",
       "      <td>No</td>\n",
       "      <td>Some of them</td>\n",
       "      <td>Yes</td>\n",
       "      <td>Yes</td>\n",
       "      <td>Yes</td>\n",
       "      <td>Don't know</td>\n",
       "      <td>No</td>\n",
       "      <td>NaN</td>\n",
       "    </tr>\n",
       "  </tbody>\n",
       "</table>\n",
       "<p>5 rows × 27 columns</p>\n",
       "</div>"
      ],
      "text/plain": [
       "             Timestamp  Age  Gender         Country state self_employed  \\\n",
       "0  2014-08-27 11:29:31   37  Female   United States    IL           NaN   \n",
       "1  2014-08-27 11:29:37   44       M   United States    IN           NaN   \n",
       "2  2014-08-27 11:29:44   32    Male          Canada   NaN           NaN   \n",
       "3  2014-08-27 11:29:46   31    Male  United Kingdom   NaN           NaN   \n",
       "4  2014-08-27 11:30:22   31    Male   United States    TX           NaN   \n",
       "\n",
       "  family_history treatment work_interfere    no_employees  ...  \\\n",
       "0             No       Yes          Often            6-25  ...   \n",
       "1             No        No         Rarely  More than 1000  ...   \n",
       "2             No        No         Rarely            6-25  ...   \n",
       "3            Yes       Yes          Often          26-100  ...   \n",
       "4             No        No          Never         100-500  ...   \n",
       "\n",
       "                leave mental_health_consequence phys_health_consequence  \\\n",
       "0       Somewhat easy                        No                      No   \n",
       "1          Don't know                     Maybe                      No   \n",
       "2  Somewhat difficult                        No                      No   \n",
       "3  Somewhat difficult                       Yes                     Yes   \n",
       "4          Don't know                        No                      No   \n",
       "\n",
       "      coworkers supervisor mental_health_interview phys_health_interview  \\\n",
       "0  Some of them        Yes                      No                 Maybe   \n",
       "1            No         No                      No                    No   \n",
       "2           Yes        Yes                     Yes                   Yes   \n",
       "3  Some of them         No                   Maybe                 Maybe   \n",
       "4  Some of them        Yes                     Yes                   Yes   \n",
       "\n",
       "  mental_vs_physical obs_consequence comments  \n",
       "0                Yes              No      NaN  \n",
       "1         Don't know              No      NaN  \n",
       "2                 No              No      NaN  \n",
       "3                 No             Yes      NaN  \n",
       "4         Don't know              No      NaN  \n",
       "\n",
       "[5 rows x 27 columns]"
      ]
     },
     "execution_count": 3,
     "metadata": {},
     "output_type": "execute_result"
    }
   ],
   "source": [
    "df.head(5)"
   ]
  },
  {
   "cell_type": "code",
   "execution_count": 4,
   "id": "bb089868",
   "metadata": {
    "execution": {
     "iopub.execute_input": "2021-09-12T04:19:35.349572Z",
     "iopub.status.busy": "2021-09-12T04:19:35.348710Z",
     "iopub.status.idle": "2021-09-12T04:19:35.353063Z",
     "shell.execute_reply": "2021-09-12T04:19:35.352417Z",
     "shell.execute_reply.started": "2021-09-12T03:53:57.427817Z"
    },
    "papermill": {
     "duration": 0.043377,
     "end_time": "2021-09-12T04:19:35.353202",
     "exception": false,
     "start_time": "2021-09-12T04:19:35.309825",
     "status": "completed"
    },
    "tags": []
   },
   "outputs": [
    {
     "data": {
      "text/plain": [
       "(1259, 27)"
      ]
     },
     "execution_count": 4,
     "metadata": {},
     "output_type": "execute_result"
    }
   ],
   "source": [
    "df.shape"
   ]
  },
  {
   "cell_type": "markdown",
   "id": "ed0c964f",
   "metadata": {
    "papermill": {
     "duration": 0.036844,
     "end_time": "2021-09-12T04:19:35.425556",
     "exception": false,
     "start_time": "2021-09-12T04:19:35.388712",
     "status": "completed"
    },
    "tags": []
   },
   "source": [
    "## Looking for the info of dataframe"
   ]
  },
  {
   "cell_type": "code",
   "execution_count": 5,
   "id": "13febd7d",
   "metadata": {
    "execution": {
     "iopub.execute_input": "2021-09-12T04:19:35.523833Z",
     "iopub.status.busy": "2021-09-12T04:19:35.523136Z",
     "iopub.status.idle": "2021-09-12T04:19:35.528007Z",
     "shell.execute_reply": "2021-09-12T04:19:35.527440Z",
     "shell.execute_reply.started": "2021-09-12T03:53:57.435914Z"
    },
    "papermill": {
     "duration": 0.066772,
     "end_time": "2021-09-12T04:19:35.528147",
     "exception": false,
     "start_time": "2021-09-12T04:19:35.461375",
     "status": "completed"
    },
    "tags": []
   },
   "outputs": [
    {
     "name": "stdout",
     "output_type": "stream",
     "text": [
      "<class 'pandas.core.frame.DataFrame'>\n",
      "RangeIndex: 1259 entries, 0 to 1258\n",
      "Data columns (total 27 columns):\n",
      " #   Column                     Non-Null Count  Dtype \n",
      "---  ------                     --------------  ----- \n",
      " 0   Timestamp                  1259 non-null   object\n",
      " 1   Age                        1259 non-null   int64 \n",
      " 2   Gender                     1259 non-null   object\n",
      " 3   Country                    1259 non-null   object\n",
      " 4   state                      744 non-null    object\n",
      " 5   self_employed              1241 non-null   object\n",
      " 6   family_history             1259 non-null   object\n",
      " 7   treatment                  1259 non-null   object\n",
      " 8   work_interfere             995 non-null    object\n",
      " 9   no_employees               1259 non-null   object\n",
      " 10  remote_work                1259 non-null   object\n",
      " 11  tech_company               1259 non-null   object\n",
      " 12  benefits                   1259 non-null   object\n",
      " 13  care_options               1259 non-null   object\n",
      " 14  wellness_program           1259 non-null   object\n",
      " 15  seek_help                  1259 non-null   object\n",
      " 16  anonymity                  1259 non-null   object\n",
      " 17  leave                      1259 non-null   object\n",
      " 18  mental_health_consequence  1259 non-null   object\n",
      " 19  phys_health_consequence    1259 non-null   object\n",
      " 20  coworkers                  1259 non-null   object\n",
      " 21  supervisor                 1259 non-null   object\n",
      " 22  mental_health_interview    1259 non-null   object\n",
      " 23  phys_health_interview      1259 non-null   object\n",
      " 24  mental_vs_physical         1259 non-null   object\n",
      " 25  obs_consequence            1259 non-null   object\n",
      " 26  comments                   164 non-null    object\n",
      "dtypes: int64(1), object(26)\n",
      "memory usage: 265.7+ KB\n"
     ]
    }
   ],
   "source": [
    "df.info()"
   ]
  },
  {
   "cell_type": "markdown",
   "id": "a0fffbc4",
   "metadata": {
    "papermill": {
     "duration": 0.033284,
     "end_time": "2021-09-12T04:19:35.595595",
     "exception": false,
     "start_time": "2021-09-12T04:19:35.562311",
     "status": "completed"
    },
    "tags": []
   },
   "source": [
    "## Pop out unneccassry variables"
   ]
  },
  {
   "cell_type": "code",
   "execution_count": 6,
   "id": "ab2b85ee",
   "metadata": {
    "execution": {
     "iopub.execute_input": "2021-09-12T04:19:35.670037Z",
     "iopub.status.busy": "2021-09-12T04:19:35.669377Z",
     "iopub.status.idle": "2021-09-12T04:19:35.673928Z",
     "shell.execute_reply": "2021-09-12T04:19:35.674380Z",
     "shell.execute_reply.started": "2021-09-12T03:53:57.469805Z"
    },
    "papermill": {
     "duration": 0.045378,
     "end_time": "2021-09-12T04:19:35.674573",
     "exception": false,
     "start_time": "2021-09-12T04:19:35.629195",
     "status": "completed"
    },
    "tags": []
   },
   "outputs": [],
   "source": [
    "df=df.drop(['comments'],axis=1)"
   ]
  },
  {
   "cell_type": "markdown",
   "id": "0cdde177",
   "metadata": {
    "papermill": {
     "duration": 0.034799,
     "end_time": "2021-09-12T04:19:35.743357",
     "exception": false,
     "start_time": "2021-09-12T04:19:35.708558",
     "status": "completed"
    },
    "tags": []
   },
   "source": [
    "## Checking for duplications"
   ]
  },
  {
   "cell_type": "code",
   "execution_count": 7,
   "id": "3b39b5d9",
   "metadata": {
    "execution": {
     "iopub.execute_input": "2021-09-12T04:19:35.820952Z",
     "iopub.status.busy": "2021-09-12T04:19:35.818945Z",
     "iopub.status.idle": "2021-09-12T04:19:35.831146Z",
     "shell.execute_reply": "2021-09-12T04:19:35.831743Z",
     "shell.execute_reply.started": "2021-09-12T03:53:57.478495Z"
    },
    "papermill": {
     "duration": 0.053729,
     "end_time": "2021-09-12T04:19:35.831934",
     "exception": false,
     "start_time": "2021-09-12T04:19:35.778205",
     "status": "completed"
    },
    "tags": []
   },
   "outputs": [
    {
     "name": "stdout",
     "output_type": "stream",
     "text": [
      "duplication in the dataframe is 0\n"
     ]
    }
   ],
   "source": [
    "print(f'duplication in the dataframe is {sum(df.duplicated())}')"
   ]
  },
  {
   "cell_type": "markdown",
   "id": "47330c05",
   "metadata": {
    "papermill": {
     "duration": 0.033365,
     "end_time": "2021-09-12T04:19:35.902590",
     "exception": false,
     "start_time": "2021-09-12T04:19:35.869225",
     "status": "completed"
    },
    "tags": []
   },
   "source": [
    "0 values, therefore no duplications in the data. "
   ]
  },
  {
   "cell_type": "markdown",
   "id": "1bd4a220",
   "metadata": {
    "papermill": {
     "duration": 0.034213,
     "end_time": "2021-09-12T04:19:35.970252",
     "exception": false,
     "start_time": "2021-09-12T04:19:35.936039",
     "status": "completed"
    },
    "tags": []
   },
   "source": [
    "## Checking if there is missing value"
   ]
  },
  {
   "cell_type": "code",
   "execution_count": 8,
   "id": "ef4a2244",
   "metadata": {
    "execution": {
     "iopub.execute_input": "2021-09-12T04:19:36.048003Z",
     "iopub.status.busy": "2021-09-12T04:19:36.047304Z",
     "iopub.status.idle": "2021-09-12T04:19:36.050928Z",
     "shell.execute_reply": "2021-09-12T04:19:36.050196Z",
     "shell.execute_reply.started": "2021-09-12T03:53:57.506346Z"
    },
    "papermill": {
     "duration": 0.04734,
     "end_time": "2021-09-12T04:19:36.051111",
     "exception": false,
     "start_time": "2021-09-12T04:19:36.003771",
     "status": "completed"
    },
    "tags": []
   },
   "outputs": [
    {
     "name": "stdout",
     "output_type": "stream",
     "text": [
      "the dataframe contain null values, needs cleaning\n"
     ]
    }
   ],
   "source": [
    "if df.isna().values.any() == True:\n",
    "    print(f'the dataframe contain null values, needs cleaning')\n",
    "else:\n",
    "    print(f'the dataframe does not contain any null values, do not need cleaning')"
   ]
  },
  {
   "cell_type": "code",
   "execution_count": 9,
   "id": "3226436f",
   "metadata": {
    "execution": {
     "iopub.execute_input": "2021-09-12T04:19:36.158990Z",
     "iopub.status.busy": "2021-09-12T04:19:36.157368Z",
     "iopub.status.idle": "2021-09-12T04:19:36.161770Z",
     "shell.execute_reply": "2021-09-12T04:19:36.161196Z",
     "shell.execute_reply.started": "2021-09-12T03:53:57.518246Z"
    },
    "papermill": {
     "duration": 0.063701,
     "end_time": "2021-09-12T04:19:36.161917",
     "exception": false,
     "start_time": "2021-09-12T04:19:36.098216",
     "status": "completed"
    },
    "tags": []
   },
   "outputs": [
    {
     "data": {
      "text/plain": [
       "Timestamp                      0\n",
       "Age                            0\n",
       "Gender                         0\n",
       "Country                        0\n",
       "state                        515\n",
       "self_employed                 18\n",
       "family_history                 0\n",
       "treatment                      0\n",
       "work_interfere               264\n",
       "no_employees                   0\n",
       "remote_work                    0\n",
       "tech_company                   0\n",
       "benefits                       0\n",
       "care_options                   0\n",
       "wellness_program               0\n",
       "seek_help                      0\n",
       "anonymity                      0\n",
       "leave                          0\n",
       "mental_health_consequence      0\n",
       "phys_health_consequence        0\n",
       "coworkers                      0\n",
       "supervisor                     0\n",
       "mental_health_interview        0\n",
       "phys_health_interview          0\n",
       "mental_vs_physical             0\n",
       "obs_consequence                0\n",
       "dtype: int64"
      ]
     },
     "execution_count": 9,
     "metadata": {},
     "output_type": "execute_result"
    }
   ],
   "source": [
    "df.isna().sum()"
   ]
  },
  {
   "cell_type": "code",
   "execution_count": 10,
   "id": "8ed9de91",
   "metadata": {
    "execution": {
     "iopub.execute_input": "2021-09-12T04:19:36.238394Z",
     "iopub.status.busy": "2021-09-12T04:19:36.237762Z",
     "iopub.status.idle": "2021-09-12T04:19:36.242608Z",
     "shell.execute_reply": "2021-09-12T04:19:36.243176Z",
     "shell.execute_reply.started": "2021-09-12T03:53:57.536961Z"
    },
    "papermill": {
     "duration": 0.0457,
     "end_time": "2021-09-12T04:19:36.243350",
     "exception": false,
     "start_time": "2021-09-12T04:19:36.197650",
     "status": "completed"
    },
    "tags": []
   },
   "outputs": [
    {
     "data": {
      "text/plain": [
       "array(['Often', 'Rarely', 'Never', 'Sometimes', nan], dtype=object)"
      ]
     },
     "execution_count": 10,
     "metadata": {},
     "output_type": "execute_result"
    }
   ],
   "source": [
    "# df.work_interfere.describe()\n",
    "# df['work_interfere'].fillna(value='Sometimes', inplace=True)\n",
    "df.work_interfere.isna().sum()\n",
    "df.work_interfere.unique()\n",
    "## change na values in work_interfere into mode value ('Sometimes')"
   ]
  },
  {
   "cell_type": "code",
   "execution_count": 11,
   "id": "4f746c50",
   "metadata": {
    "execution": {
     "iopub.execute_input": "2021-09-12T04:19:36.319966Z",
     "iopub.status.busy": "2021-09-12T04:19:36.317332Z",
     "iopub.status.idle": "2021-09-12T04:19:36.324238Z",
     "shell.execute_reply": "2021-09-12T04:19:36.323611Z",
     "shell.execute_reply.started": "2021-09-12T03:53:57.548614Z"
    },
    "papermill": {
     "duration": 0.045616,
     "end_time": "2021-09-12T04:19:36.324376",
     "exception": false,
     "start_time": "2021-09-12T04:19:36.278760",
     "status": "completed"
    },
    "tags": []
   },
   "outputs": [
    {
     "data": {
      "text/plain": [
       "array([nan, 'Yes', 'No'], dtype=object)"
      ]
     },
     "execution_count": 11,
     "metadata": {},
     "output_type": "execute_result"
    }
   ],
   "source": [
    "df.self_employed.unique()"
   ]
  },
  {
   "cell_type": "code",
   "execution_count": 12,
   "id": "666603f1",
   "metadata": {
    "execution": {
     "iopub.execute_input": "2021-09-12T04:19:36.403667Z",
     "iopub.status.busy": "2021-09-12T04:19:36.402929Z",
     "iopub.status.idle": "2021-09-12T04:19:36.407079Z",
     "shell.execute_reply": "2021-09-12T04:19:36.406517Z",
     "shell.execute_reply.started": "2021-09-12T03:53:57.565607Z"
    },
    "papermill": {
     "duration": 0.04668,
     "end_time": "2021-09-12T04:19:36.407216",
     "exception": false,
     "start_time": "2021-09-12T04:19:36.360536",
     "status": "completed"
    },
    "tags": []
   },
   "outputs": [
    {
     "data": {
      "text/plain": [
       "array(['No', 'Yes'], dtype=object)"
      ]
     },
     "execution_count": 12,
     "metadata": {},
     "output_type": "execute_result"
    }
   ],
   "source": [
    "# df.self_employed.describe()\n",
    "df.self_employed.fillna(value='No', inplace=True)\n",
    "df.self_employed.unique()"
   ]
  },
  {
   "cell_type": "code",
   "execution_count": 13,
   "id": "975a4f97",
   "metadata": {
    "execution": {
     "iopub.execute_input": "2021-09-12T04:19:36.487854Z",
     "iopub.status.busy": "2021-09-12T04:19:36.486899Z",
     "iopub.status.idle": "2021-09-12T04:19:36.491415Z",
     "shell.execute_reply": "2021-09-12T04:19:36.490912Z",
     "shell.execute_reply.started": "2021-09-12T03:53:57.579004Z"
    },
    "papermill": {
     "duration": 0.048163,
     "end_time": "2021-09-12T04:19:36.491590",
     "exception": false,
     "start_time": "2021-09-12T04:19:36.443427",
     "status": "completed"
    },
    "tags": []
   },
   "outputs": [
    {
     "data": {
      "text/plain": [
       "array(['IL', 'IN', 'Unknown', 'TX', 'TN', 'MI', 'OH', 'CA', 'CT', 'MD',\n",
       "       'NY', 'NC', 'MA', 'IA', 'PA', 'WA', 'WI', 'UT', 'NM', 'OR', 'FL',\n",
       "       'MN', 'MO', 'AZ', 'CO', 'GA', 'DC', 'NE', 'WV', 'OK', 'KS', 'VA',\n",
       "       'NH', 'KY', 'AL', 'NV', 'NJ', 'SC', 'VT', 'SD', 'ID', 'MS', 'RI',\n",
       "       'WY', 'LA', 'ME'], dtype=object)"
      ]
     },
     "execution_count": 13,
     "metadata": {},
     "output_type": "execute_result"
    }
   ],
   "source": [
    "df.state.fillna(value='Unknown', inplace=True)\n",
    "df.state.unique()"
   ]
  },
  {
   "cell_type": "code",
   "execution_count": 14,
   "id": "e3e2128b",
   "metadata": {
    "execution": {
     "iopub.execute_input": "2021-09-12T04:19:36.573396Z",
     "iopub.status.busy": "2021-09-12T04:19:36.572561Z",
     "iopub.status.idle": "2021-09-12T04:19:36.575927Z",
     "shell.execute_reply": "2021-09-12T04:19:36.576510Z",
     "shell.execute_reply.started": "2021-09-12T03:53:57.595286Z"
    },
    "papermill": {
     "duration": 0.048786,
     "end_time": "2021-09-12T04:19:36.576677",
     "exception": false,
     "start_time": "2021-09-12T04:19:36.527891",
     "status": "completed"
    },
    "tags": []
   },
   "outputs": [
    {
     "data": {
      "text/plain": [
       "True"
      ]
     },
     "execution_count": 14,
     "metadata": {},
     "output_type": "execute_result"
    }
   ],
   "source": [
    "df.isna().values.any()"
   ]
  },
  {
   "cell_type": "code",
   "execution_count": 15,
   "id": "eeef117b",
   "metadata": {
    "execution": {
     "iopub.execute_input": "2021-09-12T04:19:36.656600Z",
     "iopub.status.busy": "2021-09-12T04:19:36.654922Z",
     "iopub.status.idle": "2021-09-12T04:19:36.660676Z",
     "shell.execute_reply": "2021-09-12T04:19:36.660127Z",
     "shell.execute_reply.started": "2021-09-12T03:53:57.610428Z"
    },
    "papermill": {
     "duration": 0.047768,
     "end_time": "2021-09-12T04:19:36.660823",
     "exception": false,
     "start_time": "2021-09-12T04:19:36.613055",
     "status": "completed"
    },
    "tags": []
   },
   "outputs": [
    {
     "data": {
      "text/plain": [
       "array(['Female', 'M', 'Male', 'male', 'female', 'm', 'Male-ish', 'maile',\n",
       "       'Trans-female', 'Cis Female', 'F', 'something kinda male?',\n",
       "       'Cis Male', 'Woman', 'f', 'Mal', 'Male (CIS)', 'queer/she/they',\n",
       "       'non-binary', 'Femake', 'woman', 'Make', 'Nah', 'All', 'Enby',\n",
       "       'fluid', 'Genderqueer', 'Female ', 'Androgyne', 'Agender',\n",
       "       'cis-female/femme', 'Guy (-ish) ^_^', 'male leaning androgynous',\n",
       "       'Male ', 'Man', 'Trans woman', 'msle', 'Neuter', 'Female (trans)',\n",
       "       'queer', 'Female (cis)', 'Mail', 'cis male', 'A little about you',\n",
       "       'Malr', 'p', 'femail', 'Cis Man',\n",
       "       'ostensibly male, unsure what that really means'], dtype=object)"
      ]
     },
     "execution_count": 15,
     "metadata": {},
     "output_type": "execute_result"
    }
   ],
   "source": [
    "###Gender Solution\n",
    "df.Gender.unique()"
   ]
  },
  {
   "cell_type": "code",
   "execution_count": 16,
   "id": "52561756",
   "metadata": {
    "execution": {
     "iopub.execute_input": "2021-09-12T04:19:36.753425Z",
     "iopub.status.busy": "2021-09-12T04:19:36.752764Z",
     "iopub.status.idle": "2021-09-12T04:19:36.762619Z",
     "shell.execute_reply": "2021-09-12T04:19:36.762077Z",
     "shell.execute_reply.started": "2021-09-12T03:53:57.625077Z"
    },
    "papermill": {
     "duration": 0.062557,
     "end_time": "2021-09-12T04:19:36.762758",
     "exception": false,
     "start_time": "2021-09-12T04:19:36.700201",
     "status": "completed"
    },
    "tags": []
   },
   "outputs": [
    {
     "data": {
      "text/plain": [
       "array(['Female', 'Male', 'Others'], dtype=object)"
      ]
     },
     "execution_count": 16,
     "metadata": {},
     "output_type": "execute_result"
    }
   ],
   "source": [
    "repGen={'Female':'Female','M':'Male','male':'Male','Male':'Male','m':'Male','Male-ish':'Others','maile':'Male','Trans-female':'Others',\n",
    "        'Cis Female':'Female','F':'Female','something kinda male?':'Others','Cis Male':'Male','Woman':'Female','f':'Female','Mal':'Male',\n",
    "        'Male (CIS)':'Male','queer/she/they':'Others','non-binary':'Others','Femake':'Female','woman':'Female','Make':'Male','Nah':'Others',\n",
    "        'All':'Others','Enby':'Others','fluid':'Others','Genderqueer':'Others','Female ':'Female','Androgyne':'Others','Agender':'Others',\n",
    "        'cis-female/femme':'Female','Guy (-ish) ^_^':'Others','male leaning androgynous':'Others','Male ':'Male','Man':'Male','Trans woman':'Others',\n",
    "        'msle':'Male','Neuter':'Others','Female (trans)':'Female','queer':'Others','Female (cis)':'Female','Mail':'Male','cis male':'Male',\n",
    "        'Malr':'Male','female':'Female','p':'Others','A little about you':'Others','femail':'Female','Cis Man':'Male',\n",
    "        'ostensibly male, unsure what that really means':'Others'}\n",
    "df['Gender']=df.Gender.replace(repGen)\n",
    "df.Gender.unique()"
   ]
  },
  {
   "cell_type": "code",
   "execution_count": 17,
   "id": "9b22fb3f",
   "metadata": {
    "execution": {
     "iopub.execute_input": "2021-09-12T04:19:36.848287Z",
     "iopub.status.busy": "2021-09-12T04:19:36.847629Z",
     "iopub.status.idle": "2021-09-12T04:19:36.857474Z",
     "shell.execute_reply": "2021-09-12T04:19:36.858140Z",
     "shell.execute_reply.started": "2021-09-12T03:53:57.651688Z"
    },
    "papermill": {
     "duration": 0.056924,
     "end_time": "2021-09-12T04:19:36.858324",
     "exception": false,
     "start_time": "2021-09-12T04:19:36.801400",
     "status": "completed"
    },
    "tags": []
   },
   "outputs": [
    {
     "data": {
      "text/html": [
       "<div>\n",
       "<style scoped>\n",
       "    .dataframe tbody tr th:only-of-type {\n",
       "        vertical-align: middle;\n",
       "    }\n",
       "\n",
       "    .dataframe tbody tr th {\n",
       "        vertical-align: top;\n",
       "    }\n",
       "\n",
       "    .dataframe thead th {\n",
       "        text-align: right;\n",
       "    }\n",
       "</style>\n",
       "<table border=\"1\" class=\"dataframe\">\n",
       "  <thead>\n",
       "    <tr style=\"text-align: right;\">\n",
       "      <th></th>\n",
       "      <th>count</th>\n",
       "    </tr>\n",
       "  </thead>\n",
       "  <tbody>\n",
       "    <tr>\n",
       "      <th>Male</th>\n",
       "      <td>990</td>\n",
       "    </tr>\n",
       "    <tr>\n",
       "      <th>Female</th>\n",
       "      <td>249</td>\n",
       "    </tr>\n",
       "    <tr>\n",
       "      <th>Others</th>\n",
       "      <td>20</td>\n",
       "    </tr>\n",
       "  </tbody>\n",
       "</table>\n",
       "</div>"
      ],
      "text/plain": [
       "        count\n",
       "Male      990\n",
       "Female    249\n",
       "Others     20"
      ]
     },
     "execution_count": 17,
     "metadata": {},
     "output_type": "execute_result"
    }
   ],
   "source": [
    "gender_values = df.Gender.value_counts().sort_values(ascending=False).to_frame()\n",
    "gender_values = gender_values.rename(columns={'Gender': 'count'})\n",
    "gender_values"
   ]
  },
  {
   "cell_type": "markdown",
   "id": "57af6b60",
   "metadata": {
    "papermill": {
     "duration": 0.037926,
     "end_time": "2021-09-12T04:19:36.934214",
     "exception": false,
     "start_time": "2021-09-12T04:19:36.896288",
     "status": "completed"
    },
    "tags": []
   },
   "source": [
    "## Timestamp splitting into date, time"
   ]
  },
  {
   "cell_type": "code",
   "execution_count": 18,
   "id": "9ea1b2bf",
   "metadata": {
    "execution": {
     "iopub.execute_input": "2021-09-12T04:19:37.013258Z",
     "iopub.status.busy": "2021-09-12T04:19:37.012661Z",
     "iopub.status.idle": "2021-09-12T04:19:37.019154Z",
     "shell.execute_reply": "2021-09-12T04:19:37.019678Z",
     "shell.execute_reply.started": "2021-09-12T03:53:57.665805Z"
    },
    "papermill": {
     "duration": 0.048347,
     "end_time": "2021-09-12T04:19:37.019853",
     "exception": false,
     "start_time": "2021-09-12T04:19:36.971506",
     "status": "completed"
    },
    "tags": []
   },
   "outputs": [
    {
     "data": {
      "text/plain": [
       "0       2014-08-27 11:29:31\n",
       "1       2014-08-27 11:29:37\n",
       "2       2014-08-27 11:29:44\n",
       "3       2014-08-27 11:29:46\n",
       "4       2014-08-27 11:30:22\n",
       "               ...         \n",
       "1254    2015-09-12 11:17:21\n",
       "1255    2015-09-26 01:07:35\n",
       "1256    2015-11-07 12:36:58\n",
       "1257    2015-11-30 21:25:06\n",
       "1258    2016-02-01 23:04:31\n",
       "Name: Timestamp, Length: 1259, dtype: object"
      ]
     },
     "execution_count": 18,
     "metadata": {},
     "output_type": "execute_result"
    }
   ],
   "source": [
    "df.Timestamp"
   ]
  },
  {
   "cell_type": "code",
   "execution_count": 19,
   "id": "ca01b352",
   "metadata": {
    "execution": {
     "iopub.execute_input": "2021-09-12T04:19:37.100680Z",
     "iopub.status.busy": "2021-09-12T04:19:37.099879Z",
     "iopub.status.idle": "2021-09-12T04:19:37.104131Z",
     "shell.execute_reply": "2021-09-12T04:19:37.103175Z",
     "shell.execute_reply.started": "2021-09-12T03:53:57.681269Z"
    },
    "papermill": {
     "duration": 0.04716,
     "end_time": "2021-09-12T04:19:37.104323",
     "exception": false,
     "start_time": "2021-09-12T04:19:37.057163",
     "status": "completed"
    },
    "tags": []
   },
   "outputs": [
    {
     "data": {
      "text/plain": [
       "['2014-08-27', '11:29:31']"
      ]
     },
     "execution_count": 19,
     "metadata": {},
     "output_type": "execute_result"
    }
   ],
   "source": [
    "'2014-08-27 11:29:31'.split(' ')\n"
   ]
  },
  {
   "cell_type": "code",
   "execution_count": 20,
   "id": "f50010fe",
   "metadata": {
    "execution": {
     "iopub.execute_input": "2021-09-12T04:19:37.194051Z",
     "iopub.status.busy": "2021-09-12T04:19:37.193307Z",
     "iopub.status.idle": "2021-09-12T04:19:37.196281Z",
     "shell.execute_reply": "2021-09-12T04:19:37.196781Z",
     "shell.execute_reply.started": "2021-09-12T03:53:57.694755Z"
    },
    "papermill": {
     "duration": 0.053003,
     "end_time": "2021-09-12T04:19:37.196958",
     "exception": false,
     "start_time": "2021-09-12T04:19:37.143955",
     "status": "completed"
    },
    "tags": []
   },
   "outputs": [
    {
     "data": {
      "text/plain": [
       "0       [2014-08-27, 11:29:31]\n",
       "1       [2014-08-27, 11:29:37]\n",
       "2       [2014-08-27, 11:29:44]\n",
       "3       [2014-08-27, 11:29:46]\n",
       "4       [2014-08-27, 11:30:22]\n",
       "                 ...          \n",
       "1254    [2015-09-12, 11:17:21]\n",
       "1255    [2015-09-26, 01:07:35]\n",
       "1256    [2015-11-07, 12:36:58]\n",
       "1257    [2015-11-30, 21:25:06]\n",
       "1258    [2016-02-01, 23:04:31]\n",
       "Name: Timestamp, Length: 1259, dtype: object"
      ]
     },
     "execution_count": 20,
     "metadata": {},
     "output_type": "execute_result"
    }
   ],
   "source": [
    "Timestamp_split=df['Timestamp'].str.split(' ')\n",
    "Timestamp_split"
   ]
  },
  {
   "cell_type": "code",
   "execution_count": 21,
   "id": "2da60197",
   "metadata": {
    "execution": {
     "iopub.execute_input": "2021-09-12T04:19:37.277597Z",
     "iopub.status.busy": "2021-09-12T04:19:37.276976Z",
     "iopub.status.idle": "2021-09-12T04:19:37.282548Z",
     "shell.execute_reply": "2021-09-12T04:19:37.282038Z",
     "shell.execute_reply.started": "2021-09-12T03:53:57.711581Z"
    },
    "papermill": {
     "duration": 0.046461,
     "end_time": "2021-09-12T04:19:37.282688",
     "exception": false,
     "start_time": "2021-09-12T04:19:37.236227",
     "status": "completed"
    },
    "tags": []
   },
   "outputs": [
    {
     "data": {
      "text/plain": [
       "'2014-08-27'"
      ]
     },
     "execution_count": 21,
     "metadata": {},
     "output_type": "execute_result"
    }
   ],
   "source": [
    "Timestamp_split[0][0]"
   ]
  },
  {
   "cell_type": "code",
   "execution_count": 22,
   "id": "f1460aed",
   "metadata": {
    "execution": {
     "iopub.execute_input": "2021-09-12T04:19:37.367396Z",
     "iopub.status.busy": "2021-09-12T04:19:37.366768Z",
     "iopub.status.idle": "2021-09-12T04:19:37.370771Z",
     "shell.execute_reply": "2021-09-12T04:19:37.370141Z",
     "shell.execute_reply.started": "2021-09-12T03:53:57.723120Z"
    },
    "papermill": {
     "duration": 0.049944,
     "end_time": "2021-09-12T04:19:37.370907",
     "exception": false,
     "start_time": "2021-09-12T04:19:37.320963",
     "status": "completed"
    },
    "tags": []
   },
   "outputs": [
    {
     "data": {
      "text/plain": [
       "0       2014-08-27\n",
       "1       2014-08-27\n",
       "2       2014-08-27\n",
       "3       2014-08-27\n",
       "4       2014-08-27\n",
       "           ...    \n",
       "1254    2015-09-12\n",
       "1255    2015-09-26\n",
       "1256    2015-11-07\n",
       "1257    2015-11-30\n",
       "1258    2016-02-01\n",
       "Name: Timestamp, Length: 1259, dtype: object"
      ]
     },
     "execution_count": 22,
     "metadata": {},
     "output_type": "execute_result"
    }
   ],
   "source": [
    "Timestamp_split.str.get(0)"
   ]
  },
  {
   "cell_type": "code",
   "execution_count": 23,
   "id": "fb1c8013",
   "metadata": {
    "execution": {
     "iopub.execute_input": "2021-09-12T04:19:37.461586Z",
     "iopub.status.busy": "2021-09-12T04:19:37.460918Z",
     "iopub.status.idle": "2021-09-12T04:19:37.477684Z",
     "shell.execute_reply": "2021-09-12T04:19:37.478140Z",
     "shell.execute_reply.started": "2021-09-12T03:53:57.740411Z"
    },
    "papermill": {
     "duration": 0.068169,
     "end_time": "2021-09-12T04:19:37.478314",
     "exception": false,
     "start_time": "2021-09-12T04:19:37.410145",
     "status": "completed"
    },
    "tags": []
   },
   "outputs": [
    {
     "data": {
      "text/plain": [
       "0       27-08-2014\n",
       "1       27-08-2014\n",
       "2       27-08-2014\n",
       "3       27-08-2014\n",
       "4       27-08-2014\n",
       "           ...    \n",
       "1254    12-09-2015\n",
       "1255    26-09-2015\n",
       "1256    07-11-2015\n",
       "1257    30-11-2015\n",
       "1258    01-02-2016\n",
       "Name: Date, Length: 1259, dtype: object"
      ]
     },
     "execution_count": 23,
     "metadata": {},
     "output_type": "execute_result"
    }
   ],
   "source": [
    "df['Date']=Timestamp_split.str.get(0)\n",
    "df['Date']=pd.to_datetime(df[\"Date\"]).dt.strftime(\"%d-%m-%Y\")\n",
    "df.Date\n",
    "##Date table inserted and formated from yyyy-mm-dd into dd-mm-yyyy"
   ]
  },
  {
   "cell_type": "code",
   "execution_count": 24,
   "id": "31ae1f6a",
   "metadata": {
    "execution": {
     "iopub.execute_input": "2021-09-12T04:19:37.587846Z",
     "iopub.status.busy": "2021-09-12T04:19:37.586826Z",
     "iopub.status.idle": "2021-09-12T04:19:37.591590Z",
     "shell.execute_reply": "2021-09-12T04:19:37.590940Z",
     "shell.execute_reply.started": "2021-09-12T03:53:57.775530Z"
    },
    "papermill": {
     "duration": 0.073329,
     "end_time": "2021-09-12T04:19:37.591728",
     "exception": false,
     "start_time": "2021-09-12T04:19:37.518399",
     "status": "completed"
    },
    "tags": []
   },
   "outputs": [
    {
     "data": {
      "text/html": [
       "<div>\n",
       "<style scoped>\n",
       "    .dataframe tbody tr th:only-of-type {\n",
       "        vertical-align: middle;\n",
       "    }\n",
       "\n",
       "    .dataframe tbody tr th {\n",
       "        vertical-align: top;\n",
       "    }\n",
       "\n",
       "    .dataframe thead th {\n",
       "        text-align: right;\n",
       "    }\n",
       "</style>\n",
       "<table border=\"1\" class=\"dataframe\">\n",
       "  <thead>\n",
       "    <tr style=\"text-align: right;\">\n",
       "      <th></th>\n",
       "      <th>Timestamp</th>\n",
       "      <th>Age</th>\n",
       "      <th>Gender</th>\n",
       "      <th>Country</th>\n",
       "      <th>state</th>\n",
       "      <th>self_employed</th>\n",
       "      <th>family_history</th>\n",
       "      <th>treatment</th>\n",
       "      <th>work_interfere</th>\n",
       "      <th>no_employees</th>\n",
       "      <th>...</th>\n",
       "      <th>mental_health_consequence</th>\n",
       "      <th>phys_health_consequence</th>\n",
       "      <th>coworkers</th>\n",
       "      <th>supervisor</th>\n",
       "      <th>mental_health_interview</th>\n",
       "      <th>phys_health_interview</th>\n",
       "      <th>mental_vs_physical</th>\n",
       "      <th>obs_consequence</th>\n",
       "      <th>Date</th>\n",
       "      <th>Time</th>\n",
       "    </tr>\n",
       "  </thead>\n",
       "  <tbody>\n",
       "    <tr>\n",
       "      <th>0</th>\n",
       "      <td>2014-08-27 11:29:31</td>\n",
       "      <td>37</td>\n",
       "      <td>Female</td>\n",
       "      <td>United States</td>\n",
       "      <td>IL</td>\n",
       "      <td>No</td>\n",
       "      <td>No</td>\n",
       "      <td>Yes</td>\n",
       "      <td>Often</td>\n",
       "      <td>6-25</td>\n",
       "      <td>...</td>\n",
       "      <td>No</td>\n",
       "      <td>No</td>\n",
       "      <td>Some of them</td>\n",
       "      <td>Yes</td>\n",
       "      <td>No</td>\n",
       "      <td>Maybe</td>\n",
       "      <td>Yes</td>\n",
       "      <td>No</td>\n",
       "      <td>27-08-2014</td>\n",
       "      <td>11:29:31</td>\n",
       "    </tr>\n",
       "    <tr>\n",
       "      <th>1</th>\n",
       "      <td>2014-08-27 11:29:37</td>\n",
       "      <td>44</td>\n",
       "      <td>Male</td>\n",
       "      <td>United States</td>\n",
       "      <td>IN</td>\n",
       "      <td>No</td>\n",
       "      <td>No</td>\n",
       "      <td>No</td>\n",
       "      <td>Rarely</td>\n",
       "      <td>More than 1000</td>\n",
       "      <td>...</td>\n",
       "      <td>Maybe</td>\n",
       "      <td>No</td>\n",
       "      <td>No</td>\n",
       "      <td>No</td>\n",
       "      <td>No</td>\n",
       "      <td>No</td>\n",
       "      <td>Don't know</td>\n",
       "      <td>No</td>\n",
       "      <td>27-08-2014</td>\n",
       "      <td>11:29:37</td>\n",
       "    </tr>\n",
       "    <tr>\n",
       "      <th>2</th>\n",
       "      <td>2014-08-27 11:29:44</td>\n",
       "      <td>32</td>\n",
       "      <td>Male</td>\n",
       "      <td>Canada</td>\n",
       "      <td>Unknown</td>\n",
       "      <td>No</td>\n",
       "      <td>No</td>\n",
       "      <td>No</td>\n",
       "      <td>Rarely</td>\n",
       "      <td>6-25</td>\n",
       "      <td>...</td>\n",
       "      <td>No</td>\n",
       "      <td>No</td>\n",
       "      <td>Yes</td>\n",
       "      <td>Yes</td>\n",
       "      <td>Yes</td>\n",
       "      <td>Yes</td>\n",
       "      <td>No</td>\n",
       "      <td>No</td>\n",
       "      <td>27-08-2014</td>\n",
       "      <td>11:29:44</td>\n",
       "    </tr>\n",
       "    <tr>\n",
       "      <th>3</th>\n",
       "      <td>2014-08-27 11:29:46</td>\n",
       "      <td>31</td>\n",
       "      <td>Male</td>\n",
       "      <td>United Kingdom</td>\n",
       "      <td>Unknown</td>\n",
       "      <td>No</td>\n",
       "      <td>Yes</td>\n",
       "      <td>Yes</td>\n",
       "      <td>Often</td>\n",
       "      <td>26-100</td>\n",
       "      <td>...</td>\n",
       "      <td>Yes</td>\n",
       "      <td>Yes</td>\n",
       "      <td>Some of them</td>\n",
       "      <td>No</td>\n",
       "      <td>Maybe</td>\n",
       "      <td>Maybe</td>\n",
       "      <td>No</td>\n",
       "      <td>Yes</td>\n",
       "      <td>27-08-2014</td>\n",
       "      <td>11:29:46</td>\n",
       "    </tr>\n",
       "    <tr>\n",
       "      <th>4</th>\n",
       "      <td>2014-08-27 11:30:22</td>\n",
       "      <td>31</td>\n",
       "      <td>Male</td>\n",
       "      <td>United States</td>\n",
       "      <td>TX</td>\n",
       "      <td>No</td>\n",
       "      <td>No</td>\n",
       "      <td>No</td>\n",
       "      <td>Never</td>\n",
       "      <td>100-500</td>\n",
       "      <td>...</td>\n",
       "      <td>No</td>\n",
       "      <td>No</td>\n",
       "      <td>Some of them</td>\n",
       "      <td>Yes</td>\n",
       "      <td>Yes</td>\n",
       "      <td>Yes</td>\n",
       "      <td>Don't know</td>\n",
       "      <td>No</td>\n",
       "      <td>27-08-2014</td>\n",
       "      <td>11:30:22</td>\n",
       "    </tr>\n",
       "  </tbody>\n",
       "</table>\n",
       "<p>5 rows × 28 columns</p>\n",
       "</div>"
      ],
      "text/plain": [
       "             Timestamp  Age  Gender         Country    state self_employed  \\\n",
       "0  2014-08-27 11:29:31   37  Female   United States       IL            No   \n",
       "1  2014-08-27 11:29:37   44    Male   United States       IN            No   \n",
       "2  2014-08-27 11:29:44   32    Male          Canada  Unknown            No   \n",
       "3  2014-08-27 11:29:46   31    Male  United Kingdom  Unknown            No   \n",
       "4  2014-08-27 11:30:22   31    Male   United States       TX            No   \n",
       "\n",
       "  family_history treatment work_interfere    no_employees  ...  \\\n",
       "0             No       Yes          Often            6-25  ...   \n",
       "1             No        No         Rarely  More than 1000  ...   \n",
       "2             No        No         Rarely            6-25  ...   \n",
       "3            Yes       Yes          Often          26-100  ...   \n",
       "4             No        No          Never         100-500  ...   \n",
       "\n",
       "  mental_health_consequence phys_health_consequence     coworkers supervisor  \\\n",
       "0                        No                      No  Some of them        Yes   \n",
       "1                     Maybe                      No            No         No   \n",
       "2                        No                      No           Yes        Yes   \n",
       "3                       Yes                     Yes  Some of them         No   \n",
       "4                        No                      No  Some of them        Yes   \n",
       "\n",
       "  mental_health_interview phys_health_interview mental_vs_physical  \\\n",
       "0                      No                 Maybe                Yes   \n",
       "1                      No                    No         Don't know   \n",
       "2                     Yes                   Yes                 No   \n",
       "3                   Maybe                 Maybe                 No   \n",
       "4                     Yes                   Yes         Don't know   \n",
       "\n",
       "  obs_consequence        Date      Time  \n",
       "0              No  27-08-2014  11:29:31  \n",
       "1              No  27-08-2014  11:29:37  \n",
       "2              No  27-08-2014  11:29:44  \n",
       "3             Yes  27-08-2014  11:29:46  \n",
       "4              No  27-08-2014  11:30:22  \n",
       "\n",
       "[5 rows x 28 columns]"
      ]
     },
     "execution_count": 24,
     "metadata": {},
     "output_type": "execute_result"
    }
   ],
   "source": [
    "df['Time']=Timestamp_split.str.get(1)\n",
    "df.head()"
   ]
  },
  {
   "cell_type": "code",
   "execution_count": 25,
   "id": "8280b492",
   "metadata": {
    "execution": {
     "iopub.execute_input": "2021-09-12T04:19:37.676979Z",
     "iopub.status.busy": "2021-09-12T04:19:37.676357Z",
     "iopub.status.idle": "2021-09-12T04:19:37.703712Z",
     "shell.execute_reply": "2021-09-12T04:19:37.704245Z",
     "shell.execute_reply.started": "2021-09-12T03:53:57.813544Z"
    },
    "papermill": {
     "duration": 0.071494,
     "end_time": "2021-09-12T04:19:37.704419",
     "exception": false,
     "start_time": "2021-09-12T04:19:37.632925",
     "status": "completed"
    },
    "tags": []
   },
   "outputs": [
    {
     "data": {
      "text/html": [
       "<div>\n",
       "<style scoped>\n",
       "    .dataframe tbody tr th:only-of-type {\n",
       "        vertical-align: middle;\n",
       "    }\n",
       "\n",
       "    .dataframe tbody tr th {\n",
       "        vertical-align: top;\n",
       "    }\n",
       "\n",
       "    .dataframe thead th {\n",
       "        text-align: right;\n",
       "    }\n",
       "</style>\n",
       "<table border=\"1\" class=\"dataframe\">\n",
       "  <thead>\n",
       "    <tr style=\"text-align: right;\">\n",
       "      <th></th>\n",
       "      <th>Timestamp</th>\n",
       "      <th>Age</th>\n",
       "      <th>Gender</th>\n",
       "      <th>Country</th>\n",
       "      <th>state</th>\n",
       "      <th>self_employed</th>\n",
       "      <th>family_history</th>\n",
       "      <th>treatment</th>\n",
       "      <th>work_interfere</th>\n",
       "      <th>no_employees</th>\n",
       "      <th>...</th>\n",
       "      <th>phys_health_consequence</th>\n",
       "      <th>coworkers</th>\n",
       "      <th>supervisor</th>\n",
       "      <th>mental_health_interview</th>\n",
       "      <th>phys_health_interview</th>\n",
       "      <th>mental_vs_physical</th>\n",
       "      <th>obs_consequence</th>\n",
       "      <th>Date</th>\n",
       "      <th>Time</th>\n",
       "      <th>Year</th>\n",
       "    </tr>\n",
       "  </thead>\n",
       "  <tbody>\n",
       "    <tr>\n",
       "      <th>0</th>\n",
       "      <td>2014-08-27 11:29:31</td>\n",
       "      <td>37</td>\n",
       "      <td>Female</td>\n",
       "      <td>United States</td>\n",
       "      <td>IL</td>\n",
       "      <td>No</td>\n",
       "      <td>No</td>\n",
       "      <td>Yes</td>\n",
       "      <td>Often</td>\n",
       "      <td>6-25</td>\n",
       "      <td>...</td>\n",
       "      <td>No</td>\n",
       "      <td>Some of them</td>\n",
       "      <td>Yes</td>\n",
       "      <td>No</td>\n",
       "      <td>Maybe</td>\n",
       "      <td>Yes</td>\n",
       "      <td>No</td>\n",
       "      <td>27-08-2014</td>\n",
       "      <td>11:29:31</td>\n",
       "      <td>2014</td>\n",
       "    </tr>\n",
       "    <tr>\n",
       "      <th>1</th>\n",
       "      <td>2014-08-27 11:29:37</td>\n",
       "      <td>44</td>\n",
       "      <td>Male</td>\n",
       "      <td>United States</td>\n",
       "      <td>IN</td>\n",
       "      <td>No</td>\n",
       "      <td>No</td>\n",
       "      <td>No</td>\n",
       "      <td>Rarely</td>\n",
       "      <td>More than 1000</td>\n",
       "      <td>...</td>\n",
       "      <td>No</td>\n",
       "      <td>No</td>\n",
       "      <td>No</td>\n",
       "      <td>No</td>\n",
       "      <td>No</td>\n",
       "      <td>Don't know</td>\n",
       "      <td>No</td>\n",
       "      <td>27-08-2014</td>\n",
       "      <td>11:29:37</td>\n",
       "      <td>2014</td>\n",
       "    </tr>\n",
       "  </tbody>\n",
       "</table>\n",
       "<p>2 rows × 29 columns</p>\n",
       "</div>"
      ],
      "text/plain": [
       "             Timestamp  Age  Gender        Country state self_employed  \\\n",
       "0  2014-08-27 11:29:31   37  Female  United States    IL            No   \n",
       "1  2014-08-27 11:29:37   44    Male  United States    IN            No   \n",
       "\n",
       "  family_history treatment work_interfere    no_employees  ...  \\\n",
       "0             No       Yes          Often            6-25  ...   \n",
       "1             No        No         Rarely  More than 1000  ...   \n",
       "\n",
       "  phys_health_consequence     coworkers supervisor mental_health_interview  \\\n",
       "0                      No  Some of them        Yes                      No   \n",
       "1                      No            No         No                      No   \n",
       "\n",
       "  phys_health_interview mental_vs_physical obs_consequence        Date  \\\n",
       "0                 Maybe                Yes              No  27-08-2014   \n",
       "1                    No         Don't know              No  27-08-2014   \n",
       "\n",
       "       Time  Year  \n",
       "0  11:29:31  2014  \n",
       "1  11:29:37  2014  \n",
       "\n",
       "[2 rows x 29 columns]"
      ]
     },
     "execution_count": 25,
     "metadata": {},
     "output_type": "execute_result"
    }
   ],
   "source": [
    "Date_split=df['Date'].str.split('-')\n",
    "df['Year']=Date_split.str.get(2)\n",
    "df.head(2)"
   ]
  },
  {
   "cell_type": "markdown",
   "id": "6187d230",
   "metadata": {
    "papermill": {
     "duration": 0.041252,
     "end_time": "2021-09-12T04:19:37.785921",
     "exception": false,
     "start_time": "2021-09-12T04:19:37.744669",
     "status": "completed"
    },
    "tags": []
   },
   "source": [
    "## Relationship between variables"
   ]
  },
  {
   "cell_type": "code",
   "execution_count": 26,
   "id": "059ff7c8",
   "metadata": {
    "_kg_hide-input": true,
    "execution": {
     "iopub.execute_input": "2021-09-12T04:19:37.871859Z",
     "iopub.status.busy": "2021-09-12T04:19:37.871197Z",
     "iopub.status.idle": "2021-09-12T04:19:38.138188Z",
     "shell.execute_reply": "2021-09-12T04:19:38.137431Z",
     "shell.execute_reply.started": "2021-09-12T03:53:57.850670Z"
    },
    "papermill": {
     "duration": 0.311235,
     "end_time": "2021-09-12T04:19:38.138339",
     "exception": false,
     "start_time": "2021-09-12T04:19:37.827104",
     "status": "completed"
    },
    "tags": []
   },
   "outputs": [
    {
     "data": {
      "text/plain": [
       "Text(0, 0.5, 'Number of Respondents')"
      ]
     },
     "execution_count": 26,
     "metadata": {},
     "output_type": "execute_result"
    },
    {
     "data": {
      "image/png": "[encoded data removed]",
      "text/plain": [
       "<Figure size 1080x576 with 1 Axes>"
      ]
     },
     "metadata": {
      "needs_background": "light"
     },
     "output_type": "display_data"
    }
   ],
   "source": [
    "plt.figure(figsize = (15,8))\n",
    "bar1=sns.countplot(x='Year', data=df, hue='Gender')\n",
    "bar1.set_title('Total Mental Health Respondents in years according to genders',fontsize=24)\n",
    "bar1.set_ylabel('Number of Respondents')"
   ]
  },
  {
   "cell_type": "code",
   "execution_count": 27,
   "id": "b7a9a5de",
   "metadata": {
    "execution": {
     "iopub.execute_input": "2021-09-12T04:19:38.230813Z",
     "iopub.status.busy": "2021-09-12T04:19:38.230163Z",
     "iopub.status.idle": "2021-09-12T04:19:38.232746Z",
     "shell.execute_reply": "2021-09-12T04:19:38.233195Z",
     "shell.execute_reply.started": "2021-09-12T03:53:58.149536Z"
    },
    "papermill": {
     "duration": 0.051194,
     "end_time": "2021-09-12T04:19:38.233361",
     "exception": false,
     "start_time": "2021-09-12T04:19:38.182167",
     "status": "completed"
    },
    "tags": []
   },
   "outputs": [
    {
     "data": {
      "text/plain": [
       "1"
      ]
     },
     "execution_count": 27,
     "metadata": {},
     "output_type": "execute_result"
    }
   ],
   "source": [
    "(df.Year == '2016').sum()"
   ]
  },
  {
   "cell_type": "code",
   "execution_count": 28,
   "id": "02b93342",
   "metadata": {
    "execution": {
     "iopub.execute_input": "2021-09-12T04:19:38.322132Z",
     "iopub.status.busy": "2021-09-12T04:19:38.321450Z",
     "iopub.status.idle": "2021-09-12T04:19:38.327611Z",
     "shell.execute_reply": "2021-09-12T04:19:38.327097Z",
     "shell.execute_reply.started": "2021-09-12T03:53:58.160411Z"
    },
    "papermill": {
     "duration": 0.05165,
     "end_time": "2021-09-12T04:19:38.327756",
     "exception": false,
     "start_time": "2021-09-12T04:19:38.276106",
     "status": "completed"
    },
    "tags": []
   },
   "outputs": [
    {
     "name": "stdout",
     "output_type": "stream",
     "text": [
      "The total data in the year 2016 is 1 .\n"
     ]
    }
   ],
   "source": [
    "print(f'The total data in the year 2016 is {(df.Year == \"2016\").sum()} .')"
   ]
  },
  {
   "cell_type": "code",
   "execution_count": 29,
   "id": "a2c5c20f",
   "metadata": {
    "execution": {
     "iopub.execute_input": "2021-09-12T04:19:38.423162Z",
     "iopub.status.busy": "2021-09-12T04:19:38.422310Z",
     "iopub.status.idle": "2021-09-12T04:19:38.425790Z",
     "shell.execute_reply": "2021-09-12T04:19:38.426299Z",
     "shell.execute_reply.started": "2021-09-12T03:53:58.171127Z"
    },
    "papermill": {
     "duration": 0.055959,
     "end_time": "2021-09-12T04:19:38.426491",
     "exception": false,
     "start_time": "2021-09-12T04:19:38.370532",
     "status": "completed"
    },
    "tags": []
   },
   "outputs": [
    {
     "data": {
      "text/plain": [
       "Timestamp                    object\n",
       "Age                           int64\n",
       "Gender                       object\n",
       "Country                      object\n",
       "state                        object\n",
       "self_employed                object\n",
       "family_history               object\n",
       "treatment                    object\n",
       "work_interfere               object\n",
       "no_employees                 object\n",
       "remote_work                  object\n",
       "tech_company                 object\n",
       "benefits                     object\n",
       "care_options                 object\n",
       "wellness_program             object\n",
       "seek_help                    object\n",
       "anonymity                    object\n",
       "leave                        object\n",
       "mental_health_consequence    object\n",
       "phys_health_consequence      object\n",
       "coworkers                    object\n",
       "supervisor                   object\n",
       "mental_health_interview      object\n",
       "phys_health_interview        object\n",
       "mental_vs_physical           object\n",
       "obs_consequence              object\n",
       "Date                         object\n",
       "Time                         object\n",
       "Year                         object\n",
       "dtype: object"
      ]
     },
     "execution_count": 29,
     "metadata": {},
     "output_type": "execute_result"
    }
   ],
   "source": [
    "df.dtypes"
   ]
  },
  {
   "cell_type": "code",
   "execution_count": 30,
   "id": "5ab9c338",
   "metadata": {
    "execution": {
     "iopub.execute_input": "2021-09-12T04:19:38.523516Z",
     "iopub.status.busy": "2021-09-12T04:19:38.522537Z",
     "iopub.status.idle": "2021-09-12T04:19:38.773301Z",
     "shell.execute_reply": "2021-09-12T04:19:38.773838Z",
     "shell.execute_reply.started": "2021-09-12T03:53:58.189905Z"
    },
    "papermill": {
     "duration": 0.298419,
     "end_time": "2021-09-12T04:19:38.774029",
     "exception": false,
     "start_time": "2021-09-12T04:19:38.475610",
     "status": "completed"
    },
    "tags": []
   },
   "outputs": [
    {
     "name": "stdout",
     "output_type": "stream",
     "text": [
      "AxesSubplot(0.125,0.125;0.775x0.755)\n"
     ]
    },
    {
     "data": {
      "image/png": "[encoded data removed]",
      "text/plain": [
       "<Figure size 432x288 with 1 Axes>"
      ]
     },
     "metadata": {
      "needs_background": "light"
     },
     "output_type": "display_data"
    }
   ],
   "source": [
    "print(sns.countplot(x='seek_help',data=df,hue='work_interfere'))"
   ]
  },
  {
   "cell_type": "code",
   "execution_count": 31,
   "id": "73c762e3",
   "metadata": {
    "execution": {
     "iopub.execute_input": "2021-09-12T04:19:38.893086Z",
     "iopub.status.busy": "2021-09-12T04:19:38.892112Z",
     "iopub.status.idle": "2021-09-12T04:19:39.140946Z",
     "shell.execute_reply": "2021-09-12T04:19:39.140420Z",
     "shell.execute_reply.started": "2021-09-12T03:53:58.445588Z"
    },
    "papermill": {
     "duration": 0.319524,
     "end_time": "2021-09-12T04:19:39.141086",
     "exception": false,
     "start_time": "2021-09-12T04:19:38.821562",
     "status": "completed"
    },
    "tags": []
   },
   "outputs": [
    {
     "name": "stdout",
     "output_type": "stream",
     "text": [
      "AxesSubplot(0.125,0.125;0.775x0.755)\n"
     ]
    },
    {
     "data": {
      "image/png": "[encoded data removed]",
      "text/plain": [
       "<Figure size 432x288 with 1 Axes>"
      ]
     },
     "metadata": {
      "needs_background": "light"
     },
     "output_type": "display_data"
    }
   ],
   "source": [
    "print(sns.countplot(x='mental_health_interview',data=df,hue='work_interfere'))"
   ]
  },
  {
   "cell_type": "code",
   "execution_count": 32,
   "id": "6b837071",
   "metadata": {
    "execution": {
     "iopub.execute_input": "2021-09-12T04:19:39.243570Z",
     "iopub.status.busy": "2021-09-12T04:19:39.242575Z",
     "iopub.status.idle": "2021-09-12T04:19:39.447967Z",
     "shell.execute_reply": "2021-09-12T04:19:39.447237Z",
     "shell.execute_reply.started": "2021-09-12T03:53:58.728295Z"
    },
    "papermill": {
     "duration": 0.260678,
     "end_time": "2021-09-12T04:19:39.448127",
     "exception": false,
     "start_time": "2021-09-12T04:19:39.187449",
     "status": "completed"
    },
    "tags": []
   },
   "outputs": [
    {
     "data": {
      "text/plain": [
       "Text(0.5, 0, 'Seeking Help')"
      ]
     },
     "execution_count": 32,
     "metadata": {},
     "output_type": "execute_result"
    },
    {
     "data": {
      "image/png": "[encoded data removed]",
      "text/plain": [
       "<Figure size 432x288 with 1 Axes>"
      ]
     },
     "metadata": {
      "needs_background": "light"
     },
     "output_type": "display_data"
    }
   ],
   "source": [
    "bar4=sns.countplot(x='seek_help',data=df,hue='treatment')\n",
    "bar4.set_title(\"Treatment to those who seek for help and who doesn't\",fontsize = 24)\n",
    "bar4.set_ylabel('Number of People',fontsize = 20)\n",
    "bar4.set_xlabel('Seeking Help',fontsize = 20)"
   ]
  },
  {
   "cell_type": "code",
   "execution_count": 33,
   "id": "418d6ee6",
   "metadata": {
    "execution": {
     "iopub.execute_input": "2021-09-12T04:19:39.548938Z",
     "iopub.status.busy": "2021-09-12T04:19:39.548301Z",
     "iopub.status.idle": "2021-09-12T04:19:39.559302Z",
     "shell.execute_reply": "2021-09-12T04:19:39.558653Z",
     "shell.execute_reply.started": "2021-09-12T03:53:58.993045Z"
    },
    "papermill": {
     "duration": 0.063038,
     "end_time": "2021-09-12T04:19:39.559443",
     "exception": false,
     "start_time": "2021-09-12T04:19:39.496405",
     "status": "completed"
    },
    "tags": []
   },
   "outputs": [
    {
     "data": {
      "text/html": [
       "<div>\n",
       "<style scoped>\n",
       "    .dataframe tbody tr th:only-of-type {\n",
       "        vertical-align: middle;\n",
       "    }\n",
       "\n",
       "    .dataframe tbody tr th {\n",
       "        vertical-align: top;\n",
       "    }\n",
       "\n",
       "    .dataframe thead th {\n",
       "        text-align: right;\n",
       "    }\n",
       "</style>\n",
       "<table border=\"1\" class=\"dataframe\">\n",
       "  <thead>\n",
       "    <tr style=\"text-align: right;\">\n",
       "      <th></th>\n",
       "      <th>seek_help</th>\n",
       "    </tr>\n",
       "  </thead>\n",
       "  <tbody>\n",
       "    <tr>\n",
       "      <th>No</th>\n",
       "      <td>646</td>\n",
       "    </tr>\n",
       "    <tr>\n",
       "      <th>Don't know</th>\n",
       "      <td>363</td>\n",
       "    </tr>\n",
       "    <tr>\n",
       "      <th>Yes</th>\n",
       "      <td>250</td>\n",
       "    </tr>\n",
       "  </tbody>\n",
       "</table>\n",
       "</div>"
      ],
      "text/plain": [
       "            seek_help\n",
       "No                646\n",
       "Don't know        363\n",
       "Yes               250"
      ]
     },
     "execution_count": 33,
     "metadata": {},
     "output_type": "execute_result"
    }
   ],
   "source": [
    "sh_values = df.seek_help.value_counts().sort_values(ascending=False).to_frame()\n",
    "sh_values = sh_values.rename(columns={'Seek Help': 'count'})\n",
    "sh_values"
   ]
  },
  {
   "cell_type": "code",
   "execution_count": 34,
   "id": "ae490789",
   "metadata": {
    "execution": {
     "iopub.execute_input": "2021-09-12T04:19:39.667458Z",
     "iopub.status.busy": "2021-09-12T04:19:39.665337Z",
     "iopub.status.idle": "2021-09-12T04:19:39.896686Z",
     "shell.execute_reply": "2021-09-12T04:19:39.896163Z",
     "shell.execute_reply.started": "2021-09-12T03:53:59.008274Z"
    },
    "papermill": {
     "duration": 0.289746,
     "end_time": "2021-09-12T04:19:39.896830",
     "exception": false,
     "start_time": "2021-09-12T04:19:39.607084",
     "status": "completed"
    },
    "tags": []
   },
   "outputs": [
    {
     "data": {
      "text/plain": [
       "Text(0.5, 0, 'Well Program')"
      ]
     },
     "execution_count": 34,
     "metadata": {},
     "output_type": "execute_result"
    },
    {
     "data": {
      "image/png": "[encoded data removed]",
      "text/plain": [
       "<Figure size 1080x576 with 1 Axes>"
      ]
     },
     "metadata": {
      "needs_background": "light"
     },
     "output_type": "display_data"
    }
   ],
   "source": [
    "plt.figure(figsize = (15,8))\n",
    "bar5=sns.countplot(x='wellness_program',data=df,hue='treatment')\n",
    "bar5.set_title(\"Treatment correlate with Wellness Program\",fontsize = 24)\n",
    "bar5.set_ylabel('Number of People',fontsize = 20)\n",
    "bar5.set_xlabel('Well Program',fontsize = 20)"
   ]
  },
  {
   "cell_type": "code",
   "execution_count": null,
   "id": "087be475",
   "metadata": {
    "papermill": {
     "duration": 0.047957,
     "end_time": "2021-09-12T04:19:39.993814",
     "exception": false,
     "start_time": "2021-09-12T04:19:39.945857",
     "status": "completed"
    },
    "tags": []
   },
   "outputs": [],
   "source": []
  }
 ],
 "metadata": {
  "kernelspec": {
   "display_name": "Python 3",
   "language": "python",
   "name": "python3"
  },
  "language_info": {
   "codemirror_mode": {
    "name": "ipython",
    "version": 3
   },
   "file_extension": ".py",
   "mimetype": "text/x-python",
   "name": "python",
   "nbconvert_exporter": "python",
   "pygments_lexer": "ipython3",
   "version": "3.7.10"
  },
  "papermill": {
   "default_parameters": {},
   "duration": 15.790218,
   "end_time": "2021-09-12T04:19:41.473845",
   "environment_variables": {},
   "exception": null,
   "input_path": "__notebook__.ipynb",
   "output_path": "__notebook__.ipynb",
   "parameters": {},
   "start_time": "2021-09-12T04:19:25.683627",
   "version": "2.3.3"
  }
 },
 "nbformat": 4,
 "nbformat_minor": 5
}
